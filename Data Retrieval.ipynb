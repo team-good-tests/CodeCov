{
 "cells": [
  {
   "cell_type": "code",
   "execution_count": 6,
   "metadata": {},
   "outputs": [],
   "source": [
    "from __future__ import print_function\n",
    "import pickle\n",
    "import os.path\n",
    "from pprint import pprint\n",
    "from googleapiclient.discovery import build\n",
    "from google_auth_oauthlib.flow import InstalledAppFlow\n",
    "from google.auth.transport.requests import Request"
   ]
  },
  {
   "cell_type": "code",
   "execution_count": 7,
   "metadata": {},
   "outputs": [],
   "source": [
    "# If modifying these scopes, delete the file token.pickle.\n",
    "SCOPES = ['https://www.googleapis.com/auth/spreadsheets']\n",
    "\n",
    "# The ID and range of a sample spreadsheet.\n",
    "spreadsheet_id = '1nhttU75rL_9gRf-Awr7YojMuPTIVyrDMxpHfaThJm6E'\n",
    "range_ = 'Sheet1!A1:E1'\n",
    "value_input_option = 'RAW'\n",
    "insert_data_option = 'INSERT_ROWS'"
   ]
  },
  {
   "cell_type": "code",
   "execution_count": 9,
   "metadata": {},
   "outputs": [
    {
     "name": "stdout",
     "output_type": "stream",
     "text": [
      "{'spreadsheetId': '1nhttU75rL_9gRf-Awr7YojMuPTIVyrDMxpHfaThJm6E',\n",
      " 'tableRange': 'Sheet1!A1:B1',\n",
      " 'updates': {'spreadsheetId': '1nhttU75rL_9gRf-Awr7YojMuPTIVyrDMxpHfaThJm6E',\n",
      "             'updatedCells': 2,\n",
      "             'updatedColumns': 2,\n",
      "             'updatedRange': 'Sheet1!A2:B2',\n",
      "             'updatedRows': 1}}\n"
     ]
    }
   ],
   "source": [
    "# Build Google sheets service\n",
    "creds = None\n",
    "# The file token.pickle stores the user's access and refresh tokens, and is\n",
    "# created automatically when the authorization flow completes for the first\n",
    "# time.\n",
    "if os.path.exists('token.pickle'):\n",
    "    with open('token.pickle', 'rb') as token:\n",
    "        creds = pickle.load(token)\n",
    "# If there are no (valid) credentials available, let the user log in.\n",
    "if not creds or not creds.valid:\n",
    "    if creds and creds.expired and creds.refresh_token:\n",
    "        creds.refresh(Request())\n",
    "    else:\n",
    "        flow = InstalledAppFlow.from_client_secrets_file(\n",
    "            'credentials.json', SCOPES)\n",
    "        creds = flow.run_local_server()\n",
    "    # Save the credentials for the next run\n",
    "    with open('token.pickle', 'wb') as token:\n",
    "        pickle.dump(creds, token)\n",
    "\n",
    "service = build('sheets', 'v4', credentials=creds)"
   ]
  },
  {
   "cell_type": "code",
   "execution_count": null,
   "metadata": {},
   "outputs": [],
   "source": [
    "values = [\n",
    "    ['something','something']\n",
    "]\n",
    "value_range_body = {\n",
    "    'values': values\n",
    "}\n",
    "\n",
    "request = service.spreadsheets().values().append(spreadsheetId=spreadsheet_id, range=range_, valueInputOption=value_input_option, insertDataOption=insert_data_option, body=value_range_body)\n",
    "response = request.execute()\n",
    "\n",
    "# TODO: Change code below to process the `response` dict:\n",
    "pprint(response)"
   ]
  },
  {
   "cell_type": "code",
   "execution_count": 28,
   "metadata": {},
   "outputs": [],
   "source": [
    "from Naked.toolshed.shell import execute_js\n",
    "\n",
    "success = execute_js('scrape.js', arguments='nelsonic/github-scraper')"
   ]
  },
  {
   "cell_type": "code",
   "execution_count": 3,
   "metadata": {},
   "outputs": [
    {
     "name": "stdout",
     "output_type": "stream",
     "text": [
      "Output: ============================= test session starts ==============================\n",
      "platform linux -- Python 3.6.6, pytest-4.4.1, py-1.6.0, pluggy-0.9.0\n",
      "hypothesis profile 'default' -> database=DirectoryBasedExampleDatabase('/home/mathius/Documents/CS5850/DataRetrieval/CodeCov/.hypothesis/examples')\n",
      "rootdir: /home/mathius/Documents/CS5850/DataRetrieval/CodeCov/dateutil-master, inifile: setup.cfg\n",
      "plugins: cov-2.6.1, hypothesis-4.18.3\n",
      "collected 2073 items\n",
      "\n",
      "dateutil-master/dateutil/test/test_easter.py ........................... [  1%]\n",
      "........................................................................ [  4%]\n",
      "................................................................         [  7%]\n",
      "dateutil-master/dateutil/test/test_import_star.py .                      [  7%]\n",
      "dateutil-master/dateutil/test/test_imports.py .................sss...    [  9%]\n",
      "dateutil-master/dateutil/test/test_internals.py ....                     [  9%]\n",
      "dateutil-master/dateutil/test/test_isoparser.py ........................ [ 10%]\n",
      "........................................................................ [ 13%]\n",
      "........................................................................ [ 17%]\n",
      "........................................................................ [ 20%]\n",
      "........................................................................ [ 24%]\n",
      ".......................x...x............................................ [ 27%]\n",
      "........................................................................ [ 31%]\n",
      "........................................................................ [ 34%]\n",
      ".....................................xx                                  [ 36%]\n",
      "dateutil-master/dateutil/test/test_parser.py ........................... [ 37%]\n",
      "........................................................................ [ 41%]\n",
      "........................................................................ [ 44%]\n",
      ".................................................xxxxxxxxxxxxx.........  [ 48%]\n",
      "dateutil-master/dateutil/test/test_relativedelta.py .................... [ 49%]\n",
      ".............................................................            [ 52%]\n",
      "dateutil-master/dateutil/test/test_rrule.py ............................ [ 53%]\n",
      "........................................................................ [ 56%]\n",
      "........................................................................ [ 60%]\n",
      "........................................................................ [ 63%]\n",
      "........................................................................ [ 67%]\n",
      "........................................................................ [ 70%]\n",
      "........................................................................ [ 74%]\n",
      "........................................................................ [ 77%]\n",
      "........x.....................                                           [ 79%]\n",
      "dateutil-master/dateutil/test/test_tz.py ............................s.. [ 80%]\n",
      ".............s.............................................s............ [ 84%]\n",
      ".....................s......................................s........... [ 87%]\n",
      "................s....................................................... [ 91%]\n",
      "..........................s......................................s.sssss [ 94%]\n",
      "sssssssssssssssssssssssssssss....s..........s........................... [ 98%]\n",
      ".............................                                            [ 99%]\n",
      "dateutil-master/dateutil/test/test_utils.py .......                      [ 99%]\n",
      "dateutil-master/dateutil/test/property/test_isoparse_prop.py .           [ 99%]\n",
      "dateutil-master/dateutil/test/property/test_parser_prop.py ..            [100%]\n",
      "\n",
      "============= 2008 passed, 47 skipped, 18 xfailed in 17.67 seconds =============\n",
      "\n",
      "Error: \n",
      "code: 0\n"
     ]
    }
   ],
   "source": [
    "import subprocess\n",
    "\n",
    "repoPath = 'dateutil-master/dateutil'\n",
    "cmd = ['coverage', 'run', '-m', 'pytest', repoPath]\n",
    "#cmd = ['coverage', 'run', '-m', 'unittest', 'discover', '-s', repoPath]\n",
    "proc = subprocess.Popen(cmd, stdout=subprocess.PIPE, stderr=subprocess.PIPE)\n",
    "\n",
    "o, e = proc.communicate()\n",
    "\n",
    "print('Output: ' + o.decode('ascii'))\n",
    "print('Error: '  + e.decode('ascii'))\n",
    "print('code: ' + str(proc.returncode))"
   ]
  },
  {
   "cell_type": "code",
   "execution_count": null,
   "metadata": {},
   "outputs": [],
   "source": []
  }
 ],
 "metadata": {
  "kernelspec": {
   "display_name": "Python 3",
   "language": "python",
   "name": "python3"
  },
  "language_info": {
   "codemirror_mode": {
    "name": "ipython",
    "version": 3
   },
   "file_extension": ".py",
   "mimetype": "text/x-python",
   "name": "python",
   "nbconvert_exporter": "python",
   "pygments_lexer": "ipython3",
   "version": "3.6.6"
  }
 },
 "nbformat": 4,
 "nbformat_minor": 2
}
